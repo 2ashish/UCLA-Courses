{
 "cells": [
  {
   "cell_type": "code",
   "execution_count": 2,
   "id": "c5030b06",
   "metadata": {},
   "outputs": [],
   "source": [
    "import numpy as np\n",
    "import scipy as scipy\n",
    "import matplotlib\n",
    "import matplotlib.pyplot as plt\n",
    "from matplotlib import cm\n",
    "from matplotlib.ticker import LinearLocator\n",
    "from mpl_toolkits.mplot3d import Axes3D\n",
    "import gzip\n",
    "from sklearn.preprocessing import OneHotEncoder\n",
    "from scipy.special import expit\n",
    "import celluloid\n",
    "from celluloid import Camera\n",
    "from matplotlib import animation\n",
    "from IPython.display import HTML\n",
    "from matplotlib.lines import Line2D\n",
    "\n",
    "np.random.seed(2022)"
   ]
  },
  {
   "cell_type": "code",
   "execution_count": 8,
   "id": "0ede209c",
   "metadata": {},
   "outputs": [],
   "source": [
    "def lplot(Ys,labels=['1','2','3','4','5','6'],ylabel='Function value'):\n",
    "    \"\"\"Line plot of the Y values. (Same as above, but no animation).\n",
    "    Ys is a list where each element is an array of numbers to plot.\n",
    "    \"\"\"\n",
    "    colors = ['blue','red','green','black','cyan','purple','pink']\n",
    "    fig, ax = plt.subplots(figsize=(6,6))\n",
    "    T = len(Ys[0])\n",
    "    #plt.yscale('log')\n",
    "    handles = []\n",
    "    for i in range(len(Ys)):\n",
    "        handles.append(Line2D([0], [0], color=colors[i], label=labels[i]))\n",
    "    plt.legend(handles = handles, loc = 'upper right')\n",
    "    plt.xlabel('Step')\n",
    "    plt.ylabel(ylabel)\n",
    "    for j in range(len(Ys)):\n",
    "        plt.plot(range(T),Ys[j][:T],color=colors[j],marker='o')"
   ]
  },
  {
   "cell_type": "code",
   "execution_count": 5,
   "id": "b3653ab2",
   "metadata": {},
   "outputs": [],
   "source": [
    "def gen_rank_k_matrix(n,d,k):\n",
    "    U = np.random.normal(0,1,(n,k))\n",
    "    V = np.random.normal(0,1,(k,d))\n",
    "    X = U.dot(V)\n",
    "    if np.linalg.matrix_rank(X) == k:\n",
    "        return X\n",
    "    else:\n",
    "        return gen_rank_k_matrix(n,d,k)\n",
    "    \n",
    "def gen_mask(n,d,p):\n",
    "    R = np.random.rand(n,d)\n",
    "    O = np.zeros((n,d))\n",
    "    O[R < p] = 1\n",
    "    return O\n",
    "\n",
    "def cost(X,Y,O):\n",
    "    return np.sum((X - Y)**2)\n",
    "\n",
    "def gradient_fn(X,Y,O):\n",
    "    return 2*(Y*O - X)\n",
    "\n",
    "def gradient_descent(xinit,steps,gradient):\n",
    "    \"\"\"Run gradient descent.\n",
    "    Return an array with the rows as the iterates.\n",
    "    \"\"\"\n",
    "    xs = [xinit]\n",
    "    x = xinit\n",
    "    for step in steps:\n",
    "        x = x - step*gradient(x)\n",
    "        u, s, vT = scipy.sparse.linalg.svds(x, k=5)\n",
    "        x = u.dot(np.diag(s).dot(vT))\n",
    "        xs.append(x)\n",
    "    return np.array(xs)"
   ]
  },
  {
   "cell_type": "code",
   "execution_count": 6,
   "id": "23cb66c2",
   "metadata": {},
   "outputs": [],
   "source": [
    "n = 1000\n",
    "d = 500\n",
    "k = 5\n",
    "p = 0.1\n",
    "num_iter = 1000\n",
    "X = gen_rank_k_matrix(n,d,k)\n",
    "X_init = gen_rank_k_matrix(n,d,k)\n",
    "O = gen_mask(n,d,p)\n",
    "X_in = X*O\n",
    "objective = lambda Y: cost(X, Y, O) \n",
    "gradient = lambda Y: gradient_fn(X_in, Y, O) \n",
    "step_sizes = [0.1,0.2,0.3]\n",
    "labels = ['Stepsize is '+str(step) for step in step_sizes]\n",
    "Xs = [gradient_descent(X_init,[size]*num_iter,gradient) for size in step_sizes]\n",
    "Ys = [[objective(y) for y in x] for x in Xs]"
   ]
  },
  {
   "cell_type": "code",
   "execution_count": 9,
   "id": "c653cd0c",
   "metadata": {},
   "outputs": [
    {
     "data": {
      "image/png": "[encoded data removed]",
      "text/plain": [
       "<Figure size 432x432 with 1 Axes>"
      ]
     },
     "metadata": {
      "needs_background": "light"
     },
     "output_type": "display_data"
    }
   ],
   "source": [
    "lplot(Ys,labels,'Cost')"
   ]
  },
  {
   "cell_type": "code",
   "execution_count": null,
   "id": "96bb14a0",
   "metadata": {},
   "outputs": [],
   "source": []
  }
 ],
 "metadata": {
  "kernelspec": {
   "display_name": "Python 3 (ipykernel)",
   "language": "python",
   "name": "python3"
  },
  "language_info": {
   "codemirror_mode": {
    "name": "ipython",
    "version": 3
   },
   "file_extension": ".py",
   "mimetype": "text/x-python",
   "name": "python",
   "nbconvert_exporter": "python",
   "pygments_lexer": "ipython3",
   "version": "3.8.11"
  }
 },
 "nbformat": 4,
 "nbformat_minor": 5
}
