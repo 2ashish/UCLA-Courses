{
 "cells": [
  {
   "cell_type": "code",
   "execution_count": 1,
   "id": "6b50cb96",
   "metadata": {},
   "outputs": [],
   "source": [
    "import numpy as np\n",
    "import sys\n",
    "import scipy\n",
    "from sklearn.preprocessing import OneHotEncoder\n",
    "from scipy.special import expit\n",
    "import time\n",
    "import matplotlib.pyplot as plt"
   ]
  },
  {
   "cell_type": "code",
   "execution_count": 2,
   "id": "60b40042",
   "metadata": {},
   "outputs": [],
   "source": [
    "def gen_mask(n,d,p):\n",
    "    R = np.random.rand(n,d)\n",
    "    O = np.zeros((n,d))\n",
    "    O[R < p] = 1\n",
    "    return O"
   ]
  },
  {
   "cell_type": "code",
   "execution_count": 3,
   "id": "1f5a80de",
   "metadata": {},
   "outputs": [],
   "source": [
    "n = 10000\n",
    "p = 0.01\n",
    "k = 20"
   ]
  },
  {
   "cell_type": "code",
   "execution_count": 4,
   "id": "ed4a9699",
   "metadata": {},
   "outputs": [],
   "source": [
    "G = np.random.normal(0,1,(n,n))\n",
    "O = gen_mask(n,n,p)\n",
    "G = G*O\n",
    "U = np.random.normal(0,1,(n,k))"
   ]
  },
  {
   "cell_type": "code",
   "execution_count": 5,
   "id": "04fbae28",
   "metadata": {},
   "outputs": [],
   "source": [
    "Z = U.dot(U.T)+G"
   ]
  },
  {
   "cell_type": "code",
   "execution_count": 6,
   "id": "d37c8420",
   "metadata": {},
   "outputs": [],
   "source": [
    "def power_iteration(U,G,v0,T):\n",
    "    v = v0\n",
    "    Ut = U.T\n",
    "    Gt = G.T\n",
    "    for i in range(T):\n",
    "        u = U.dot(Ut.dot(v)) + G.dot(v)\n",
    "        u = U.dot(Ut.dot(u)) + Gt.dot(u)\n",
    "        v = u/np.linalg.norm(u)\n",
    "    return v\n",
    "\n",
    "def scipy_default(X):\n",
    "    u,s,vt = scipy.sparse.linalg.svds(X,k=1)\n",
    "    return vt.T"
   ]
  },
  {
   "cell_type": "code",
   "execution_count": 7,
   "id": "03781cb6",
   "metadata": {},
   "outputs": [],
   "source": [
    "def run_scipy(X):\n",
    "    start = time.time()\n",
    "    v = scipy_default(X)\n",
    "    end = time.time()\n",
    "    t = end - start\n",
    "    return v,t\n",
    "\n",
    "def run_pi(U,G,v0,T):\n",
    "    #v0 = np.random.normal(0,1,(G.shape[1],1))\n",
    "    #v0 = v0/np.linalg.norm(v0)\n",
    "    start = time.time()\n",
    "    v = power_iteration(U,G,v0,T)\n",
    "    end = time.time()\n",
    "    t = end - start\n",
    "    return v,t"
   ]
  },
  {
   "cell_type": "code",
   "execution_count": 8,
   "id": "f1ae189a",
   "metadata": {},
   "outputs": [
    {
     "name": "stdout",
     "output_type": "stream",
     "text": [
      "Scipy svd time:  16.172028303146362\n",
      "Power iteration time: [0.5271583557128906, 1.0714661121368407, 1.59823579788208, 2.1311190605163572, 2.6719422340393066, 3.200266790390015, 3.7280841112136844, 4.254444932937623, 4.778913688659668, 5.303987979888916, 5.830049324035644, 6.355394983291625, 6.882603192329406, 7.405512714385986, 7.932202959060668, 8.45703580379486, 8.983737850189208, 9.513005614280699, 10.039047312736509, 10.566315460205075]\n"
     ]
    }
   ],
   "source": [
    "t_scipy = 0.0\n",
    "t_pi = [0.0]*20\n",
    "v_pi = [0.0]*20\n",
    "num_runs = 10\n",
    "for i in range(num_runs):\n",
    "    sys.stdout.write(\"%d / %d \\r\" %(i+1,num_runs))\n",
    "    sys.stdout.flush()\n",
    "    v,t = run_scipy(Z)\n",
    "    t_scipy += t\n",
    "    v0 = np.random.normal(0,1,(G.shape[1],1))\n",
    "    v0 = v0/np.linalg.norm(v0)\n",
    "    for j in range(20):\n",
    "        v0,t = run_pi(U,G,v0,10)\n",
    "        t_pi[j] += t\n",
    "        v_pi[j] += min(np.linalg.norm(v0-v),np.linalg.norm(v0+v))\n",
    "t_pi = [x/num_runs for x in t_pi]\n",
    "v_pi = [x/num_runs for x in v_pi]\n",
    "for j in range(1,20):\n",
    "    t_pi[j] += t_pi[j-1]\n",
    "print(\"Scipy svd time: \",t_scipy)\n",
    "print(\"Power iteration time:\",t_pi)"
   ]
  },
  {
   "cell_type": "code",
   "execution_count": 9,
   "id": "2cf39bcc",
   "metadata": {},
   "outputs": [
    {
     "data": {
      "text/plain": [
       "[<matplotlib.lines.Line2D at 0x1bfbda29130>]"
      ]
     },
     "execution_count": 9,
     "metadata": {},
     "output_type": "execute_result"
    },
    {
     "data": {
      "image/png": "[encoded data removed]",
      "text/plain": [
       "<Figure size 432x288 with 1 Axes>"
      ]
     },
     "metadata": {
      "needs_background": "light"
     },
     "output_type": "display_data"
    }
   ],
   "source": [
    "plt.xlabel('Num iteration in PI')\n",
    "plt.ylabel('Error with true vector')\n",
    "plt.plot(range(10,201,10),v_pi)"
   ]
  }
 ],
 "metadata": {
  "kernelspec": {
   "display_name": "Python 3 (ipykernel)",
   "language": "python",
   "name": "python3"
  },
  "language_info": {
   "codemirror_mode": {
    "name": "ipython",
    "version": 3
   },
   "file_extension": ".py",
   "mimetype": "text/x-python",
   "name": "python",
   "nbconvert_exporter": "python",
   "pygments_lexer": "ipython3",
   "version": "3.8.11"
  }
 },
 "nbformat": 4,
 "nbformat_minor": 5
}
