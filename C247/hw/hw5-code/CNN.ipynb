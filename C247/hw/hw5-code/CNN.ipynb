{
 "cells": [
  {
   "cell_type": "markdown",
   "metadata": {},
   "source": [
    "# Convolutional neural networks\n",
    "\n",
    "In this notebook, we'll put together our convolutional layers to implement a 3-layer CNN.  Then, we'll ask you to implement a CNN that can achieve > 65% validation error on CIFAR-10.\n",
    "\n",
    "If you have not completed the Spatial BatchNorm Notebook, please see the following description from that notebook:\n",
    "\n",
    "Please copy and paste your prior implemented code from HW #4 to start this assignment.  If you did not correctly implement the layers in HW #4, you may collaborate with a classmate to use their layer implementations from HW #4.  You may also visit TA or Prof OH to correct your implementation.  \n",
    "\n",
    "You'll want to copy and paste from HW #4:\n",
    "    - layers.py for your FC network layers, as well as batchnorm and dropout.\n",
    "    - layer_utils.py for your combined FC network layers.\n",
    "    - optim.py for your optimizers.\n",
    "\n",
    "Be sure to place these in the `nndl/` directory so they're imported correctly.  Note, as announced in class, we will not be releasing our solutions."
   ]
  },
  {
   "cell_type": "code",
   "execution_count": 1,
   "metadata": {},
   "outputs": [],
   "source": [
    "# As usual, a bit of setup\n",
    "\n",
    "import numpy as np\n",
    "import matplotlib.pyplot as plt\n",
    "from nndl.cnn import *\n",
    "from utils.data_utils import get_CIFAR10_data\n",
    "from utils.gradient_check import eval_numerical_gradient_array, eval_numerical_gradient\n",
    "from nndl.layers import *\n",
    "from nndl.conv_layers import *\n",
    "from utils.fast_layers import *\n",
    "from utils.solver import Solver\n",
    "\n",
    "%matplotlib inline\n",
    "plt.rcParams['figure.figsize'] = (10.0, 8.0) # set default size of plots\n",
    "plt.rcParams['image.interpolation'] = 'nearest'\n",
    "plt.rcParams['image.cmap'] = 'gray'\n",
    "\n",
    "# for auto-reloading external modules\n",
    "# see http://stackoverflow.com/questions/1907993/autoreload-of-modules-in-ipython\n",
    "%load_ext autoreload\n",
    "%autoreload 2\n",
    "\n",
    "def rel_error(x, y):\n",
    "  \"\"\" returns relative error \"\"\"\n",
    "  return np.max(np.abs(x - y) / (np.maximum(1e-8, np.abs(x) + np.abs(y))))"
   ]
  },
  {
   "cell_type": "code",
   "execution_count": 4,
   "metadata": {},
   "outputs": [
    {
     "name": "stdout",
     "output_type": "stream",
     "text": [
      "X_train: (49000, 3, 32, 32) \n",
      "y_train: (49000,) \n",
      "X_val: (1000, 3, 32, 32) \n",
      "y_val: (1000,) \n",
      "X_test: (1000, 3, 32, 32) \n",
      "y_test: (1000,) \n"
     ]
    }
   ],
   "source": [
    "# Load the (preprocessed) CIFAR10 data.\n",
    "\n",
    "data = get_CIFAR10_data()\n",
    "for k in data.keys():\n",
    "  print('{}: {} '.format(k, data[k].shape))"
   ]
  },
  {
   "cell_type": "markdown",
   "metadata": {},
   "source": [
    "## Three layer CNN\n",
    "\n",
    "In this notebook, you will implement a three layer CNN.  The `ThreeLayerConvNet` class is in `nndl/cnn.py`.  You'll need to modify that code for this section, including the initialization, as well as the calculation of the loss and gradients.  You should be able to use the building blocks you have either earlier coded or that we have provided.  Be sure to use the fast layers.\n",
    "\n",
    "The architecture of this CNN will be:\n",
    "\n",
    "conv - relu - 2x2 max pool - affine - relu - affine - softmax\n",
    "\n",
    "We won't use batchnorm yet.  You've also done enough of these to know how to debug; use the cells below.\n",
    "\n",
    "Note: As we are implementing several layers CNN networks. The gradient error can be expected for the `eval_numerical_gradient()` function. If your `W1 max relative error` and `W2 max relative error` are around or below 0.01, they should be acceptable. Other errors should be less than 1e-5. "
   ]
  },
  {
   "cell_type": "code",
   "execution_count": 8,
   "metadata": {},
   "outputs": [
    {
     "name": "stdout",
     "output_type": "stream",
     "text": [
      "W1 max relative error: 0.011582167206514055\n",
      "W2 max relative error: 0.014215630010808635\n",
      "W3 max relative error: 7.143934702505574e-05\n",
      "b1 max relative error: 1.8072548730142395e-05\n",
      "b2 max relative error: 1.5045429753527004e-06\n",
      "b3 max relative error: 1.0474466450818472e-09\n"
     ]
    }
   ],
   "source": [
    "num_inputs = 2\n",
    "input_dim = (3, 16, 16)\n",
    "reg = 0.0\n",
    "num_classes = 10\n",
    "X = np.random.randn(num_inputs, *input_dim)\n",
    "y = np.random.randint(num_classes, size=num_inputs)\n",
    "\n",
    "model = ThreeLayerConvNet(num_filters=3, filter_size=3,\n",
    "                          input_dim=input_dim, hidden_dim=7,\n",
    "                          dtype=np.float64)\n",
    "loss, grads = model.loss(X, y)\n",
    "for param_name in sorted(grads):\n",
    "    f = lambda _: model.loss(X, y)[0]\n",
    "    param_grad_num = eval_numerical_gradient(f, model.params[param_name], verbose=False, h=1e-6)\n",
    "    e = rel_error(param_grad_num, grads[param_name])\n",
    "    print('{} max relative error: {}'.format(param_name, rel_error(param_grad_num, grads[param_name])))"
   ]
  },
  {
   "cell_type": "markdown",
   "metadata": {},
   "source": [
    "### Overfit small dataset\n",
    "\n",
    "To check your CNN implementation, let's overfit a small dataset."
   ]
  },
  {
   "cell_type": "code",
   "execution_count": 9,
   "metadata": {},
   "outputs": [
    {
     "name": "stdout",
     "output_type": "stream",
     "text": [
      "(Iteration 1 / 20) loss: 2.382580\n",
      "(Epoch 0 / 10) train acc: 0.230000; val_acc: 0.127000\n",
      "(Iteration 2 / 20) loss: 3.858268\n",
      "(Epoch 1 / 10) train acc: 0.200000; val_acc: 0.114000\n",
      "(Iteration 3 / 20) loss: 3.676738\n",
      "(Iteration 4 / 20) loss: 2.294921\n",
      "(Epoch 2 / 10) train acc: 0.250000; val_acc: 0.108000\n",
      "(Iteration 5 / 20) loss: 2.364957\n",
      "(Iteration 6 / 20) loss: 2.177080\n",
      "(Epoch 3 / 10) train acc: 0.190000; val_acc: 0.128000\n",
      "(Iteration 7 / 20) loss: 2.091676\n",
      "(Iteration 8 / 20) loss: 1.936924\n",
      "(Epoch 4 / 10) train acc: 0.350000; val_acc: 0.152000\n",
      "(Iteration 9 / 20) loss: 1.948134\n",
      "(Iteration 10 / 20) loss: 1.703696\n",
      "(Epoch 5 / 10) train acc: 0.530000; val_acc: 0.175000\n",
      "(Iteration 11 / 20) loss: 1.607247\n",
      "(Iteration 12 / 20) loss: 1.332345\n",
      "(Epoch 6 / 10) train acc: 0.600000; val_acc: 0.182000\n",
      "(Iteration 13 / 20) loss: 1.358965\n",
      "(Iteration 14 / 20) loss: 1.301250\n",
      "(Epoch 7 / 10) train acc: 0.710000; val_acc: 0.217000\n",
      "(Iteration 15 / 20) loss: 1.181836\n",
      "(Iteration 16 / 20) loss: 1.537372\n",
      "(Epoch 8 / 10) train acc: 0.730000; val_acc: 0.214000\n",
      "(Iteration 17 / 20) loss: 0.771859\n",
      "(Iteration 18 / 20) loss: 0.951309\n",
      "(Epoch 9 / 10) train acc: 0.730000; val_acc: 0.198000\n",
      "(Iteration 19 / 20) loss: 0.712975\n",
      "(Iteration 20 / 20) loss: 0.561128\n",
      "(Epoch 10 / 10) train acc: 0.820000; val_acc: 0.209000\n"
     ]
    }
   ],
   "source": [
    "num_train = 100\n",
    "small_data = {\n",
    "  'X_train': data['X_train'][:num_train],\n",
    "  'y_train': data['y_train'][:num_train],\n",
    "  'X_val': data['X_val'],\n",
    "  'y_val': data['y_val'],\n",
    "}\n",
    "\n",
    "model = ThreeLayerConvNet(weight_scale=1e-2)\n",
    "\n",
    "solver = Solver(model, small_data,\n",
    "                num_epochs=10, batch_size=50,\n",
    "                update_rule='adam',\n",
    "                optim_config={\n",
    "                  'learning_rate': 1e-3,\n",
    "                },\n",
    "                verbose=True, print_every=1)\n",
    "solver.train()"
   ]
  },
  {
   "cell_type": "code",
   "execution_count": 10,
   "metadata": {},
   "outputs": [
    {
     "data": {
      "image/png": "[encoded data removed]",
      "text/plain": [
       "<Figure size 720x576 with 2 Axes>"
      ]
     },
     "metadata": {
      "needs_background": "light"
     },
     "output_type": "display_data"
    }
   ],
   "source": [
    "plt.subplot(2, 1, 1)\n",
    "plt.plot(solver.loss_history, 'o')\n",
    "plt.xlabel('iteration')\n",
    "plt.ylabel('loss')\n",
    "\n",
    "plt.subplot(2, 1, 2)\n",
    "plt.plot(solver.train_acc_history, '-o')\n",
    "plt.plot(solver.val_acc_history, '-o')\n",
    "plt.legend(['train', 'val'], loc='upper left')\n",
    "plt.xlabel('epoch')\n",
    "plt.ylabel('accuracy')\n",
    "plt.show()"
   ]
  },
  {
   "cell_type": "markdown",
   "metadata": {},
   "source": [
    "## Train the network\n",
    "\n",
    "Now we train the 3 layer CNN on CIFAR-10 and assess its accuracy."
   ]
  },
  {
   "cell_type": "code",
   "execution_count": 11,
   "metadata": {
    "scrolled": false
   },
   "outputs": [
    {
     "name": "stdout",
     "output_type": "stream",
     "text": [
      "(Iteration 1 / 980) loss: 2.304531\n",
      "(Epoch 0 / 1) train acc: 0.096000; val_acc: 0.098000\n",
      "(Iteration 21 / 980) loss: 2.271377\n",
      "(Iteration 41 / 980) loss: 2.002693\n",
      "(Iteration 61 / 980) loss: 1.996322\n",
      "(Iteration 81 / 980) loss: 1.863851\n",
      "(Iteration 101 / 980) loss: 2.064730\n",
      "(Iteration 121 / 980) loss: 1.992802\n",
      "(Iteration 141 / 980) loss: 1.452346\n",
      "(Iteration 161 / 980) loss: 1.869969\n",
      "(Iteration 181 / 980) loss: 1.793654\n",
      "(Iteration 201 / 980) loss: 2.008249\n",
      "(Iteration 221 / 980) loss: 1.715329\n",
      "(Iteration 241 / 980) loss: 1.515369\n",
      "(Iteration 261 / 980) loss: 1.675155\n",
      "(Iteration 281 / 980) loss: 1.806337\n",
      "(Iteration 301 / 980) loss: 1.473572\n",
      "(Iteration 321 / 980) loss: 1.447883\n",
      "(Iteration 341 / 980) loss: 1.981338\n",
      "(Iteration 361 / 980) loss: 1.718061\n",
      "(Iteration 381 / 980) loss: 1.418680\n",
      "(Iteration 401 / 980) loss: 1.740535\n",
      "(Iteration 421 / 980) loss: 1.706089\n",
      "(Iteration 441 / 980) loss: 1.512991\n",
      "(Iteration 461 / 980) loss: 1.668131\n",
      "(Iteration 481 / 980) loss: 1.629799\n",
      "(Iteration 501 / 980) loss: 1.625585\n",
      "(Iteration 521 / 980) loss: 1.501371\n",
      "(Iteration 541 / 980) loss: 1.379852\n",
      "(Iteration 561 / 980) loss: 1.410839\n",
      "(Iteration 581 / 980) loss: 1.368521\n",
      "(Iteration 601 / 980) loss: 1.558027\n",
      "(Iteration 621 / 980) loss: 1.799553\n",
      "(Iteration 641 / 980) loss: 1.564854\n",
      "(Iteration 661 / 980) loss: 1.369897\n",
      "(Iteration 681 / 980) loss: 1.381831\n",
      "(Iteration 701 / 980) loss: 1.705887\n",
      "(Iteration 721 / 980) loss: 1.601044\n",
      "(Iteration 741 / 980) loss: 1.451873\n",
      "(Iteration 761 / 980) loss: 1.671530\n",
      "(Iteration 781 / 980) loss: 1.789960\n",
      "(Iteration 801 / 980) loss: 1.541475\n",
      "(Iteration 821 / 980) loss: 1.907693\n",
      "(Iteration 841 / 980) loss: 1.492666\n",
      "(Iteration 861 / 980) loss: 1.340623\n",
      "(Iteration 881 / 980) loss: 1.759223\n",
      "(Iteration 901 / 980) loss: 1.692885\n",
      "(Iteration 921 / 980) loss: 1.639575\n",
      "(Iteration 941 / 980) loss: 1.656631\n",
      "(Iteration 961 / 980) loss: 1.858810\n",
      "(Epoch 1 / 1) train acc: 0.462000; val_acc: 0.433000\n"
     ]
    }
   ],
   "source": [
    "model = ThreeLayerConvNet(weight_scale=0.001, hidden_dim=500, reg=0.001)\n",
    "\n",
    "solver = Solver(model, data,\n",
    "                num_epochs=1, batch_size=50,\n",
    "                update_rule='adam',\n",
    "                optim_config={\n",
    "                  'learning_rate': 1e-3,\n",
    "                },\n",
    "                verbose=True, print_every=20)\n",
    "solver.train()"
   ]
  },
  {
   "cell_type": "markdown",
   "metadata": {},
   "source": [
    "# Get > 65% validation accuracy on CIFAR-10.\n",
    "\n",
    "In the last part of the assignment, we'll now ask you to train a CNN to get better than 65% validation accuracy on CIFAR-10.\n",
    "\n",
    "### Things you should try:\n",
    "- Filter size: Above we used 7x7; but VGGNet and onwards showed stacks of 3x3 filters are good.  \n",
    "- Number of filters: Above we used 32 filters. Do more or fewer do better?\n",
    "- Batch normalization: Try adding spatial batch normalization after convolution layers and vanilla batch normalization aafter affine layers. Do your networks train faster?\n",
    "- Network architecture: Can a deeper CNN do better?  Consider these architectures:\n",
    "    - [conv-relu-pool]xN - conv - relu - [affine]xM - [softmax or SVM]\n",
    "    - [conv-relu-pool]XN - [affine]XM - [softmax or SVM]\n",
    "    - [conv-relu-conv-relu-pool]xN - [affine]xM - [softmax or SVM]\n",
    "\n",
    "### Tips for training\n",
    "For each network architecture that you try, you should tune the learning rate and regularization strength. When doing this there are a couple important things to keep in mind:\n",
    "\n",
    "- If the parameters are working well, you should see improvement within a few hundred iterations\n",
    "- Remember the coarse-to-fine approach for hyperparameter tuning: start by testing a large range of hyperparameters for just a few training iterations to find the combinations of parameters that are working at all.\n",
    "- Once you have found some sets of parameters that seem to work, search more finely around these parameters. You may need to train for more epochs."
   ]
  },
  {
   "cell_type": "code",
   "execution_count": 13,
   "metadata": {
    "scrolled": false
   },
   "outputs": [
    {
     "name": "stdout",
     "output_type": "stream",
     "text": [
      "(Iteration 1 / 2450) loss: 2.304694\n",
      "(Epoch 0 / 10) train acc: 0.085000; val_acc: 0.079000\n",
      "(Iteration 101 / 2450) loss: 1.515280\n",
      "(Iteration 201 / 2450) loss: 1.260570\n",
      "(Epoch 1 / 10) train acc: 0.581000; val_acc: 0.555000\n",
      "(Iteration 301 / 2450) loss: 1.188566\n",
      "(Iteration 401 / 2450) loss: 1.167816\n",
      "(Epoch 2 / 10) train acc: 0.644000; val_acc: 0.604000\n",
      "(Iteration 501 / 2450) loss: 0.943109\n",
      "(Iteration 601 / 2450) loss: 0.989317\n",
      "(Iteration 701 / 2450) loss: 0.836393\n",
      "(Epoch 3 / 10) train acc: 0.685000; val_acc: 0.614000\n",
      "(Iteration 801 / 2450) loss: 0.987970\n",
      "(Iteration 901 / 2450) loss: 1.054005\n",
      "(Epoch 4 / 10) train acc: 0.727000; val_acc: 0.636000\n",
      "(Iteration 1001 / 2450) loss: 0.963190\n",
      "(Iteration 1101 / 2450) loss: 0.841740\n",
      "(Iteration 1201 / 2450) loss: 0.807908\n",
      "(Epoch 5 / 10) train acc: 0.765000; val_acc: 0.657000\n",
      "(Iteration 1301 / 2450) loss: 0.740925\n",
      "(Iteration 1401 / 2450) loss: 0.644606\n",
      "(Epoch 6 / 10) train acc: 0.778000; val_acc: 0.661000\n",
      "(Iteration 1501 / 2450) loss: 0.623828\n",
      "(Iteration 1601 / 2450) loss: 0.649584\n",
      "(Iteration 1701 / 2450) loss: 0.727654\n",
      "(Epoch 7 / 10) train acc: 0.818000; val_acc: 0.646000\n",
      "(Iteration 1801 / 2450) loss: 0.611627\n",
      "(Iteration 1901 / 2450) loss: 0.639321\n",
      "(Epoch 8 / 10) train acc: 0.829000; val_acc: 0.665000\n",
      "(Iteration 2001 / 2450) loss: 0.581038\n",
      "(Iteration 2101 / 2450) loss: 0.390481\n",
      "(Iteration 2201 / 2450) loss: 0.517170\n",
      "(Epoch 9 / 10) train acc: 0.878000; val_acc: 0.654000\n",
      "(Iteration 2301 / 2450) loss: 0.501238\n",
      "(Iteration 2401 / 2450) loss: 0.476331\n",
      "(Epoch 10 / 10) train acc: 0.905000; val_acc: 0.671000\n"
     ]
    }
   ],
   "source": [
    "# ================================================================ #\n",
    "# YOUR CODE HERE:\n",
    "#   Implement a CNN to achieve greater than 65% validation accuracy\n",
    "#   on CIFAR-10.\n",
    "# ================================================================ #\n",
    "\n",
    "# tuning hyperparameters achieves >65% validation accuracy\n",
    "model = ThreeLayerConvNet(weight_scale=0.001, hidden_dim=500, reg=0.001)\n",
    "\n",
    "solver = Solver(model, data,\n",
    "                num_epochs=10, batch_size=200,\n",
    "                update_rule='adam',\n",
    "                optim_config={\n",
    "                  'learning_rate': 5e-4,\n",
    "                },\n",
    "                lr_decay=0.95,\n",
    "                verbose=True, print_every=100)\n",
    "solver.train()\n",
    "\n",
    "# ================================================================ #\n",
    "# END YOUR CODE HERE\n",
    "# ================================================================ #\n"
   ]
  },
  {
   "cell_type": "code",
   "execution_count": null,
   "metadata": {},
   "outputs": [],
   "source": []
  }
 ],
 "metadata": {
  "kernelspec": {
   "display_name": "Python 3 (ipykernel)",
   "language": "python",
   "name": "python3"
  },
  "language_info": {
   "codemirror_mode": {
    "name": "ipython",
    "version": 3
   },
   "file_extension": ".py",
   "mimetype": "text/x-python",
   "name": "python",
   "nbconvert_exporter": "python",
   "pygments_lexer": "ipython3",
   "version": "3.8.11"
  },
  "pycharm": {
   "stem_cell": {
    "cell_type": "raw",
    "metadata": {
     "collapsed": false
    },
    "source": []
   }
  }
 },
 "nbformat": 4,
 "nbformat_minor": 2
}
