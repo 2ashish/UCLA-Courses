{
 "cells": [
  {
   "cell_type": "markdown",
   "metadata": {},
   "source": [
    "## This is the softmax workbook for ECE C147/C247 Assignment #2\n",
    "\n",
    "Please follow the notebook linearly to implement a softmax classifier.\n",
    "\n",
    "Please print out the workbook entirely when completed.\n",
    "\n",
    "The goal of this workbook is to give you experience with training a softmax classifier."
   ]
  },
  {
   "cell_type": "code",
   "execution_count": 2,
   "metadata": {},
   "outputs": [
    {
     "name": "stdout",
     "output_type": "stream",
     "text": [
      "The autoreload extension is already loaded. To reload it, use:\n",
      "  %reload_ext autoreload\n"
     ]
    }
   ],
   "source": [
    "import random\n",
    "import numpy as np\n",
    "from utils.data_utils import load_CIFAR10\n",
    "import matplotlib.pyplot as plt\n",
    "\n",
    "%matplotlib inline\n",
    "%load_ext autoreload\n",
    "%autoreload 2"
   ]
  },
  {
   "cell_type": "code",
   "execution_count": 4,
   "metadata": {
    "scrolled": true
   },
   "outputs": [
    {
     "name": "stdout",
     "output_type": "stream",
     "text": [
      "Train data shape:  (49000, 3073)\n",
      "Train labels shape:  (49000,)\n",
      "Validation data shape:  (1000, 3073)\n",
      "Validation labels shape:  (1000,)\n",
      "Test data shape:  (1000, 3073)\n",
      "Test labels shape:  (1000,)\n",
      "dev data shape:  (500, 3073)\n",
      "dev labels shape:  (500,)\n"
     ]
    }
   ],
   "source": [
    "def get_CIFAR10_data(num_training=49000, num_validation=1000, num_test=1000, num_dev=500):\n",
    "    \"\"\"\n",
    "    Load the CIFAR-10 dataset from disk and perform preprocessing to prepare\n",
    "    it for the linear classifier. These are the same steps as we used for the\n",
    "    SVM, but condensed to a single function.  \n",
    "    \"\"\"\n",
    "    # Load the raw CIFAR-10 data\n",
    "    cifar10_dir = './cifar-10-batches-py' # You need to update this line\n",
    "    X_train, y_train, X_test, y_test = load_CIFAR10(cifar10_dir)\n",
    "    \n",
    "    # subsample the data\n",
    "    mask = list(range(num_training, num_training + num_validation))\n",
    "    X_val = X_train[mask]\n",
    "    y_val = y_train[mask]\n",
    "    mask = list(range(num_training))\n",
    "    X_train = X_train[mask]\n",
    "    y_train = y_train[mask]\n",
    "    mask = list(range(num_test))\n",
    "    X_test = X_test[mask]\n",
    "    y_test = y_test[mask]\n",
    "    mask = np.random.choice(num_training, num_dev, replace=False)\n",
    "    X_dev = X_train[mask]\n",
    "    y_dev = y_train[mask]\n",
    "    \n",
    "    # Preprocessing: reshape the image data into rows\n",
    "    X_train = np.reshape(X_train, (X_train.shape[0], -1))\n",
    "    X_val = np.reshape(X_val, (X_val.shape[0], -1))\n",
    "    X_test = np.reshape(X_test, (X_test.shape[0], -1))\n",
    "    X_dev = np.reshape(X_dev, (X_dev.shape[0], -1))\n",
    "    \n",
    "    # Normalize the data: subtract the mean image\n",
    "    mean_image = np.mean(X_train, axis = 0)\n",
    "    X_train -= mean_image\n",
    "    X_val -= mean_image\n",
    "    X_test -= mean_image\n",
    "    X_dev -= mean_image\n",
    "    \n",
    "    # add bias dimension and transform into columns\n",
    "    X_train = np.hstack([X_train, np.ones((X_train.shape[0], 1))])\n",
    "    X_val = np.hstack([X_val, np.ones((X_val.shape[0], 1))])\n",
    "    X_test = np.hstack([X_test, np.ones((X_test.shape[0], 1))])\n",
    "    X_dev = np.hstack([X_dev, np.ones((X_dev.shape[0], 1))])\n",
    "    \n",
    "    return X_train, y_train, X_val, y_val, X_test, y_test, X_dev, y_dev\n",
    "\n",
    "\n",
    "# Invoke the above function to get our data.\n",
    "X_train, y_train, X_val, y_val, X_test, y_test, X_dev, y_dev = get_CIFAR10_data()\n",
    "print('Train data shape: ', X_train.shape)\n",
    "print('Train labels shape: ', y_train.shape)\n",
    "print('Validation data shape: ', X_val.shape)\n",
    "print('Validation labels shape: ', y_val.shape)\n",
    "print('Test data shape: ', X_test.shape)\n",
    "print('Test labels shape: ', y_test.shape)\n",
    "print('dev data shape: ', X_dev.shape)\n",
    "print('dev labels shape: ', y_dev.shape)"
   ]
  },
  {
   "cell_type": "markdown",
   "metadata": {},
   "source": [
    "## Training a softmax classifier.\n",
    "\n",
    "The following cells will take you through building a softmax classifier.  You will implement its loss function, then subsequently train it with gradient descent.  Finally, you will choose the learning rate of gradient descent to optimize its classification performance."
   ]
  },
  {
   "cell_type": "code",
   "execution_count": 5,
   "metadata": {},
   "outputs": [],
   "source": [
    "from nndl import Softmax"
   ]
  },
  {
   "cell_type": "code",
   "execution_count": 6,
   "metadata": {},
   "outputs": [],
   "source": [
    "# Declare an instance of the Softmax class.  \n",
    "# Weights are initialized to a random value.\n",
    "# Note, to keep people's first solutions consistent, we are going to use a random seed.\n",
    "\n",
    "np.random.seed(1)\n",
    "\n",
    "num_classes = len(np.unique(y_train))\n",
    "num_features = X_train.shape[1]\n",
    "\n",
    "softmax = Softmax(dims=[num_classes, num_features])"
   ]
  },
  {
   "cell_type": "markdown",
   "metadata": {},
   "source": [
    "#### Softmax loss"
   ]
  },
  {
   "cell_type": "code",
   "execution_count": 16,
   "metadata": {},
   "outputs": [],
   "source": [
    "## Implement the loss function of the softmax using a for loop over\n",
    "#  the number of examples\n",
    "\n",
    "loss = softmax.loss(X_train, y_train)"
   ]
  },
  {
   "cell_type": "code",
   "execution_count": 17,
   "metadata": {},
   "outputs": [
    {
     "name": "stdout",
     "output_type": "stream",
     "text": [
      "2.3277607028048966\n"
     ]
    }
   ],
   "source": [
    "print(loss)"
   ]
  },
  {
   "cell_type": "markdown",
   "metadata": {},
   "source": [
    "## Question: \n",
    "\n",
    "You'll notice the loss returned by the softmax is about 2.3 (if implemented correctly).  Why does this make sense?"
   ]
  },
  {
   "cell_type": "markdown",
   "metadata": {},
   "source": [
    "## Answer:\n",
    "\n",
    "Beacuse the weights are randomly initialized and are not yet trained, so their output will predict randomly one of the 10 classes, so the probability for guessing correct class will be 0.1,\n",
    "Softmax loss for this should be -ln(0.1) = ln(10) $\\approx$ 2.3"
   ]
  },
  {
   "cell_type": "markdown",
   "metadata": {},
   "source": [
    "#### Softmax gradient"
   ]
  },
  {
   "cell_type": "code",
   "execution_count": 47,
   "metadata": {
    "scrolled": false
   },
   "outputs": [
    {
     "name": "stdout",
     "output_type": "stream",
     "text": [
      "numerical: -3.647501 analytic: -3.647501, relative error: 5.572790e-09\n",
      "numerical: 0.451700 analytic: 0.451700, relative error: 2.844425e-08\n",
      "numerical: -3.732429 analytic: -3.732429, relative error: 1.804868e-08\n",
      "numerical: 0.647963 analytic: 0.647963, relative error: 6.568576e-08\n",
      "numerical: -1.820191 analytic: -1.820191, relative error: 2.507468e-08\n",
      "numerical: 1.109531 analytic: 1.109531, relative error: 1.441653e-09\n",
      "numerical: -5.199350 analytic: -5.199350, relative error: 5.170286e-09\n",
      "numerical: 0.594704 analytic: 0.594704, relative error: 4.507831e-09\n",
      "numerical: 1.727080 analytic: 1.727080, relative error: 1.661232e-08\n",
      "numerical: 1.027455 analytic: 1.027455, relative error: 7.851578e-08\n"
     ]
    }
   ],
   "source": [
    "## Calculate the gradient of the softmax loss in the Softmax class.\n",
    "# For convenience, we'll write one function that computes the loss\n",
    "#   and gradient together, softmax.loss_and_grad(X, y)\n",
    "# You may copy and paste your loss code from softmax.loss() here, and then\n",
    "#   use the appropriate intermediate values to calculate the gradient.\n",
    "\n",
    "loss, grad = softmax.loss_and_grad(X_dev,y_dev)\n",
    "\n",
    "# Compare your gradient to a gradient check we wrote. \n",
    "# You should see relative gradient errors on the order of 1e-07 or less if you implemented the gradient correctly.\n",
    "softmax.grad_check_sparse(X_dev, y_dev, grad)"
   ]
  },
  {
   "cell_type": "markdown",
   "metadata": {},
   "source": [
    "## A vectorized version of Softmax\n",
    "\n",
    "To speed things up, we will vectorize the loss and gradient calculations.  This will be helpful for stochastic gradient descent."
   ]
  },
  {
   "cell_type": "code",
   "execution_count": 22,
   "metadata": {},
   "outputs": [],
   "source": [
    "import time"
   ]
  },
  {
   "cell_type": "code",
   "execution_count": 83,
   "metadata": {},
   "outputs": [
    {
     "name": "stdout",
     "output_type": "stream",
     "text": [
      "Normal loss / grad_norm: 2.321937839839383 / 355.5657032496941 computed in 0.04790449142456055s\n",
      "Vectorized loss / grad: 2.321937839839384 / 355.5657032496941 computed in 0.002991199493408203s\n",
      "difference in loss / grad: -8.881784197001252e-16 /3.2759122096389006e-13 \n"
     ]
    }
   ],
   "source": [
    "## Implement softmax.fast_loss_and_grad which calculates the loss and gradient\n",
    "#    WITHOUT using any for loops.  \n",
    "\n",
    "# Standard loss and gradient\n",
    "tic = time.time()\n",
    "loss, grad = softmax.loss_and_grad(X_dev, y_dev)\n",
    "toc = time.time()\n",
    "print('Normal loss / grad_norm: {} / {} computed in {}s'.format(loss, np.linalg.norm(grad, 'fro'), toc - tic))\n",
    "\n",
    "tic = time.time()\n",
    "loss_vectorized, grad_vectorized = softmax.fast_loss_and_grad(X_dev, y_dev)\n",
    "toc = time.time()\n",
    "print('Vectorized loss / grad: {} / {} computed in {}s'.format(loss_vectorized, np.linalg.norm(grad_vectorized, 'fro'), toc - tic))\n",
    "\n",
    "# The losses should match but your vectorized implementation should be much faster.\n",
    "print('difference in loss / grad: {} /{} '.format(loss - loss_vectorized, np.linalg.norm(grad - grad_vectorized)))\n",
    "\n",
    "# You should notice a speedup with the same output."
   ]
  },
  {
   "cell_type": "markdown",
   "metadata": {},
   "source": [
    "## Stochastic gradient descent\n",
    "\n",
    "We now implement stochastic gradient descent.  This uses the same principles of gradient descent we discussed in class, however, it calculates the gradient by only using examples from a subset of the training set (so each gradient calculation is faster)."
   ]
  },
  {
   "cell_type": "markdown",
   "metadata": {},
   "source": [
    "## Question:\n",
    "\n",
    "How should the softmax gradient descent training step differ from the svm training step, if at all?"
   ]
  },
  {
   "cell_type": "markdown",
   "metadata": {},
   "source": [
    "## Answer:\n",
    "\n",
    "Both uses gradient descent."
   ]
  },
  {
   "cell_type": "code",
   "execution_count": 87,
   "metadata": {
    "scrolled": false
   },
   "outputs": [
    {
     "name": "stdout",
     "output_type": "stream",
     "text": [
      "iteration 0 / 1500: loss 2.340083207460104\n",
      "iteration 100 / 1500: loss 2.0796101858228555\n",
      "iteration 200 / 1500: loss 1.9509828239589024\n",
      "iteration 300 / 1500: loss 1.9094554741811902\n",
      "iteration 400 / 1500: loss 1.9249155589928528\n",
      "iteration 500 / 1500: loss 1.8564142779293118\n",
      "iteration 600 / 1500: loss 1.955236276552195\n",
      "iteration 700 / 1500: loss 1.8739863809177661\n",
      "iteration 800 / 1500: loss 1.8282954997114702\n",
      "iteration 900 / 1500: loss 1.8613853134130016\n",
      "iteration 1000 / 1500: loss 1.801377358060681\n",
      "iteration 1100 / 1500: loss 1.838523870326722\n",
      "iteration 1200 / 1500: loss 1.93128662446051\n",
      "iteration 1300 / 1500: loss 1.8633359921607544\n",
      "iteration 1400 / 1500: loss 1.7841174341843271\n",
      "That took 5.049999237060547s\n"
     ]
    },
    {
     "data": {
      "image/png": "[encoded data removed]",
      "text/plain": [
       "<Figure size 432x288 with 1 Axes>"
      ]
     },
     "metadata": {
      "needs_background": "light"
     },
     "output_type": "display_data"
    }
   ],
   "source": [
    "# Implement softmax.train() by filling in the code to extract a batch of data\n",
    "# and perform the gradient step.\n",
    "import time\n",
    "\n",
    "\n",
    "tic = time.time()\n",
    "loss_hist = softmax.train(X_train, y_train, learning_rate=1e-7,\n",
    "                      num_iters=1500, verbose=True)\n",
    "toc = time.time()\n",
    "print('That took {}s'.format(toc - tic))\n",
    "\n",
    "plt.plot(loss_hist)\n",
    "plt.xlabel('Iteration number')\n",
    "plt.ylabel('Loss value')\n",
    "plt.show()"
   ]
  },
  {
   "cell_type": "markdown",
   "metadata": {},
   "source": [
    "### Evaluate the performance of the trained softmax classifier on the validation data."
   ]
  },
  {
   "cell_type": "code",
   "execution_count": 88,
   "metadata": {},
   "outputs": [
    {
     "name": "stdout",
     "output_type": "stream",
     "text": [
      "training accuracy: 0.38042857142857145\n",
      "validation accuracy: 0.386\n"
     ]
    }
   ],
   "source": [
    "## Implement softmax.predict() and use it to compute the training and testing error.\n",
    "\n",
    "y_train_pred = softmax.predict(X_train)\n",
    "print('training accuracy: {}'.format(np.mean(np.equal(y_train,y_train_pred), )))\n",
    "y_val_pred = softmax.predict(X_val)\n",
    "print('validation accuracy: {}'.format(np.mean(np.equal(y_val, y_val_pred)), ))"
   ]
  },
  {
   "cell_type": "markdown",
   "metadata": {},
   "source": [
    "## Optimize the softmax classifier\n",
    "\n",
    "You may copy and paste your optimization code from the SVM here."
   ]
  },
  {
   "cell_type": "code",
   "execution_count": 75,
   "metadata": {},
   "outputs": [
    {
     "data": {
      "text/plain": [
       "2.220446049250313e-16"
      ]
     },
     "execution_count": 75,
     "metadata": {},
     "output_type": "execute_result"
    }
   ],
   "source": [
    "np.finfo(float).eps"
   ]
  },
  {
   "cell_type": "code",
   "execution_count": 82,
   "metadata": {
    "scrolled": false
   },
   "outputs": [
    {
     "name": "stdout",
     "output_type": "stream",
     "text": [
      "Learning rate:  0.001\n",
      "iteration 0 / 1500: loss 2.2835571027153025\n",
      "iteration 100 / 1500: loss nan\n",
      "iteration 200 / 1500: loss nan\n",
      "iteration 300 / 1500: loss nan\n",
      "iteration 400 / 1500: loss nan\n",
      "iteration 500 / 1500: loss nan\n",
      "iteration 600 / 1500: loss nan\n",
      "iteration 700 / 1500: loss nan\n",
      "iteration 800 / 1500: loss nan\n",
      "iteration 900 / 1500: loss nan\n",
      "iteration 1000 / 1500: loss nan\n",
      "iteration 1100 / 1500: loss nan\n",
      "iteration 1200 / 1500: loss nan\n",
      "iteration 1300 / 1500: loss nan\n",
      "iteration 1400 / 1500: loss nan\n",
      "Learning rate:  0.0001\n",
      "iteration 0 / 1500: loss 2.3741269036684773\n",
      "iteration 100 / 1500: loss 21.566058045533524\n",
      "iteration 200 / 1500: loss 21.58936956028798\n",
      "iteration 300 / 1500: loss 23.002643868236717\n",
      "iteration 400 / 1500: loss 28.245920728779094\n",
      "iteration 500 / 1500: loss 25.92942062535044\n",
      "iteration 600 / 1500: loss 19.075525790192017\n",
      "iteration 700 / 1500: loss 23.70727229305301\n",
      "iteration 800 / 1500: loss 22.159543997997456\n",
      "iteration 900 / 1500: loss 19.685382694143737\n",
      "iteration 1000 / 1500: loss 18.53918056240376\n",
      "iteration 1100 / 1500: loss 37.89698044580087\n",
      "iteration 1200 / 1500: loss 26.190186281951014\n",
      "iteration 1300 / 1500: loss 17.47048053428887\n",
      "iteration 1400 / 1500: loss 34.95236455776998\n",
      "Learning rate:  1e-05\n",
      "iteration 0 / 1500: loss 2.3583198724679124\n",
      "iteration 100 / 1500: loss 3.1441386776978093\n",
      "iteration 200 / 1500: loss 3.480804618374719\n",
      "iteration 300 / 1500: loss 2.542572878400548\n",
      "iteration 400 / 1500: loss 3.147300913233951\n",
      "iteration 500 / 1500: loss 3.426142923236357\n",
      "iteration 600 / 1500: loss 2.5021331818079116\n",
      "iteration 700 / 1500: loss 2.474520066343636\n",
      "iteration 800 / 1500: loss 2.382328730749394\n",
      "iteration 900 / 1500: loss 3.4308575589936847\n",
      "iteration 1000 / 1500: loss 2.081864808305783\n",
      "iteration 1100 / 1500: loss 2.7300271801069598\n",
      "iteration 1200 / 1500: loss 2.541404542039993\n",
      "iteration 1300 / 1500: loss 2.7075820098026564\n",
      "iteration 1400 / 1500: loss 2.551841440383185\n",
      "Learning rate:  1e-06\n",
      "iteration 0 / 1500: loss 2.3416597885450123\n",
      "iteration 100 / 1500: loss 1.8391973732882259\n",
      "iteration 200 / 1500: loss 1.8210858476184548\n",
      "iteration 300 / 1500: loss 1.7657174495064851\n",
      "iteration 400 / 1500: loss 1.7182399427694128\n",
      "iteration 500 / 1500: loss 1.728727141191668\n",
      "iteration 600 / 1500: loss 1.7695810989491774\n",
      "iteration 700 / 1500: loss 1.68452544070862\n",
      "iteration 800 / 1500: loss 1.633023856888361\n",
      "iteration 900 / 1500: loss 1.6483173750169164\n",
      "iteration 1000 / 1500: loss 1.7900163450298086\n",
      "iteration 1100 / 1500: loss 1.8000270831639398\n",
      "iteration 1200 / 1500: loss 1.7500070459884969\n",
      "iteration 1300 / 1500: loss 1.7140488624121668\n",
      "iteration 1400 / 1500: loss 1.84134027719777\n",
      "Learning rate:  1e-07\n",
      "iteration 0 / 1500: loss 2.3513053580344856\n",
      "iteration 100 / 1500: loss 2.068895539834847\n",
      "iteration 200 / 1500: loss 1.9669995283606965\n",
      "iteration 300 / 1500: loss 1.9899268364151783\n",
      "iteration 400 / 1500: loss 1.923360526196894\n",
      "iteration 500 / 1500: loss 1.8847095451002107\n",
      "iteration 600 / 1500: loss 1.8619623955002245\n",
      "iteration 700 / 1500: loss 1.8869851963912563\n",
      "iteration 800 / 1500: loss 1.8467188794182943\n",
      "iteration 900 / 1500: loss 1.8593598344392688\n",
      "iteration 1000 / 1500: loss 1.765959381474745\n",
      "iteration 1100 / 1500: loss 1.840633087672667\n",
      "iteration 1200 / 1500: loss 1.8663659887430333\n",
      "iteration 1300 / 1500: loss 1.8642120445976074\n",
      "iteration 1400 / 1500: loss 1.9952288177197806\n",
      "Learning rate:  1e-08\n",
      "iteration 0 / 1500: loss 2.3440559196467468\n",
      "iteration 100 / 1500: loss 2.2419265217806554\n",
      "iteration 200 / 1500: loss 2.251037140420148\n",
      "iteration 300 / 1500: loss 2.2298865788873776\n",
      "iteration 400 / 1500: loss 2.144391076798619\n",
      "iteration 500 / 1500: loss 2.156646086772012\n",
      "iteration 600 / 1500: loss 2.144818075555676\n",
      "iteration 700 / 1500: loss 2.1036041838125934\n",
      "iteration 800 / 1500: loss 2.0768398300825908\n",
      "iteration 900 / 1500: loss 2.0887748140337137\n",
      "iteration 1000 / 1500: loss 2.0983620723624936\n",
      "iteration 1100 / 1500: loss 2.0631575942638785\n",
      "iteration 1200 / 1500: loss 2.0613572596050656\n",
      "iteration 1300 / 1500: loss 2.101202796663624\n",
      "iteration 1400 / 1500: loss 1.9568810330947901\n",
      "Learning rate:  1e-09\n",
      "iteration 0 / 1500: loss 2.307638514938267\n",
      "iteration 100 / 1500: loss 2.3373064302705306\n",
      "iteration 200 / 1500: loss 2.3230306476333418\n",
      "iteration 300 / 1500: loss 2.309552587840203\n",
      "iteration 400 / 1500: loss 2.306594321755637\n",
      "iteration 500 / 1500: loss 2.3242400819076585\n",
      "iteration 600 / 1500: loss 2.3074075612470675\n",
      "iteration 700 / 1500: loss 2.2834966359908306\n",
      "iteration 800 / 1500: loss 2.2780901677902334\n",
      "iteration 900 / 1500: loss 2.299201740697041\n",
      "iteration 1000 / 1500: loss 2.2503681584965385\n",
      "iteration 1100 / 1500: loss 2.2628266644397157\n",
      "iteration 1200 / 1500: loss 2.2755902076033556\n",
      "iteration 1300 / 1500: loss 2.275820827342614\n",
      "iteration 1400 / 1500: loss 2.2430451942099943\n",
      "Learning rate:  1e-10\n",
      "iteration 0 / 1500: loss 2.3516602062074345\n",
      "iteration 100 / 1500: loss 2.3584117826733135\n",
      "iteration 200 / 1500: loss 2.3317077500657803\n",
      "iteration 300 / 1500: loss 2.3243597562904013\n",
      "iteration 400 / 1500: loss 2.3981623126706966\n",
      "iteration 500 / 1500: loss 2.349918053086092\n",
      "iteration 600 / 1500: loss 2.3234021809969914\n",
      "iteration 700 / 1500: loss 2.289166427605307\n",
      "iteration 800 / 1500: loss 2.319720787510532\n",
      "iteration 900 / 1500: loss 2.3327406191152007\n",
      "iteration 1000 / 1500: loss 2.3269640249527117\n",
      "iteration 1100 / 1500: loss 2.3533928343598776\n",
      "iteration 1200 / 1500: loss 2.3136784358071196\n",
      "iteration 1300 / 1500: loss 2.3435259683116154\n",
      "iteration 1400 / 1500: loss 2.314236459559979\n",
      "lr:  0.001 train acc:  0.10026530612244898 val acc:  0.087\n",
      "lr:  0.0001 train acc:  0.2957959183673469 val acc:  0.299\n",
      "lr:  1e-05 train acc:  0.3962857142857143 val acc:  0.375\n",
      "lr:  1e-06 train acc:  0.4203877551020408 val acc:  0.404\n",
      "lr:  1e-07 train acc:  0.379 val acc:  0.393\n",
      "lr:  1e-08 train acc:  0.2924897959183673 val acc:  0.307\n",
      "lr:  1e-09 train acc:  0.1613265306122449 val acc:  0.152\n",
      "lr:  1e-10 train acc:  0.09683673469387755 val acc:  0.115\n",
      "Best lr:  1e-06\n",
      "Best val acc:  0.404 Best val err:  0.596\n",
      "Best test acc:  0.391 Best test err:  0.609\n"
     ]
    }
   ],
   "source": [
    "# ================================================================ #\n",
    "# YOUR CODE HERE:\n",
    "#   Train the Softmax classifier with different learning rates and \n",
    "#     evaluate on the validation data.\n",
    "#   Report:\n",
    "#     - The best learning rate of the ones you tested.  \n",
    "#     - The best validation accuracy corresponding to the best validation error.\n",
    "#\n",
    "#   Select the SVM that achieved the best validation error and report\n",
    "#     its error rate on the test set.\n",
    "# ================================================================ #\n",
    "from collections import defaultdict\n",
    "lrs = [1e-3,1e-4,1e-5,1e-6,1e-7,1e-8,1e-9,1e-10]\n",
    "lrs_metrics = defaultdict(list) #training error, val error, test_error\n",
    "for lr in lrs:\n",
    "    print(\"Learning rate: \",lr)\n",
    "    softmax = Softmax(dims=[num_classes, num_features])\n",
    "    loss_hist = softmax.train(X_train, y_train, learning_rate=lr,\n",
    "                      num_iters=1500, verbose=True)\n",
    "    y_train_pred = softmax.predict(X_train)\n",
    "    train_acc = np.mean(np.equal(y_train,y_train_pred))\n",
    "    y_val_pred = softmax.predict(X_val)\n",
    "    val_acc = np.mean(np.equal(y_val,y_val_pred))\n",
    "    y_test_pred = softmax.predict(X_test)\n",
    "    test_acc = np.mean(np.equal(y_test,y_test_pred))\n",
    "    \n",
    "    lrs_metrics[lr].append(train_acc)\n",
    "    lrs_metrics[lr].append(val_acc)\n",
    "    lrs_metrics[lr].append(test_acc)\n",
    "                         \n",
    "best_val = 0\n",
    "for k,v in lrs_metrics.items():\n",
    "    print(\"lr: \",k,\"train acc: \",v[0],\"val acc: \",v[1])\n",
    "    if best_val<v[1]:\n",
    "        best_val=v[1]\n",
    "        best_lr = k\n",
    "        best_test = v[2]\n",
    "\n",
    "print(\"Best lr: \",best_lr)\n",
    "print(\"Best val acc: \", best_val, \"Best val err: \", 1-best_val)\n",
    "print(\"Best test acc: \",best_test, \"Best test err: \",1-best_test)\n",
    "\n",
    "# ================================================================ #\n",
    "# END YOUR CODE HERE\n",
    "# ================================================================ #\n"
   ]
  }
 ],
 "metadata": {
  "kernelspec": {
   "display_name": "Python 3 (ipykernel)",
   "language": "python",
   "name": "python3"
  },
  "language_info": {
   "codemirror_mode": {
    "name": "ipython",
    "version": 3
   },
   "file_extension": ".py",
   "mimetype": "text/x-python",
   "name": "python",
   "nbconvert_exporter": "python",
   "pygments_lexer": "ipython3",
   "version": "3.8.11"
  }
 },
 "nbformat": 4,
 "nbformat_minor": 2
}
